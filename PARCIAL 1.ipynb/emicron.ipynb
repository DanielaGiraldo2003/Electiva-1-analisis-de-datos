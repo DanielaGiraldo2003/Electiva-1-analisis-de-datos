{
 "cells": [
  {
   "cell_type": "code",
   "execution_count": 2,
   "id": "fd83c784",
   "metadata": {},
   "outputs": [],
   "source": [
    "import pandas as pd\n",
    "import numpy as np"
   ]
  },
  {
   "cell_type": "code",
   "execution_count": 3,
   "id": "e11976cc",
   "metadata": {},
   "outputs": [],
   "source": [
    "#Leyendo los datos de la GEIH\n",
    "df_emicron = pd.read_csv('https://github.com/niconomist98/DataAnalyticsUQ/raw/refs/heads/main/Datos/EMICRON/emicron_identificacion.csv',encoding='latin',sep=',')"
   ]
  },
  {
   "cell_type": "code",
   "execution_count": 4,
   "id": "5304f42d",
   "metadata": {},
   "outputs": [
    {
     "data": {
      "text/html": [
       "<div>\n",
       "<style scoped>\n",
       "    .dataframe tbody tr th:only-of-type {\n",
       "        vertical-align: middle;\n",
       "    }\n",
       "\n",
       "    .dataframe tbody tr th {\n",
       "        vertical-align: top;\n",
       "    }\n",
       "\n",
       "    .dataframe thead th {\n",
       "        text-align: right;\n",
       "    }\n",
       "</style>\n",
       "<table border=\"1\" class=\"dataframe\">\n",
       "  <thead>\n",
       "    <tr style=\"text-align: right;\">\n",
       "      <th></th>\n",
       "      <th>DIRECTORIO</th>\n",
       "      <th>SECUENCIA_P</th>\n",
       "      <th>SECUENCIA_ENCUESTA</th>\n",
       "      <th>COD_DEPTO</th>\n",
       "      <th>AREA</th>\n",
       "      <th>CLASE_TE</th>\n",
       "      <th>P35</th>\n",
       "      <th>P241</th>\n",
       "      <th>MES_REF</th>\n",
       "      <th>P3031</th>\n",
       "      <th>P3032_1</th>\n",
       "      <th>P3032_2</th>\n",
       "      <th>P3032_3</th>\n",
       "      <th>P3033</th>\n",
       "      <th>P3034</th>\n",
       "      <th>P3035</th>\n",
       "      <th>P3000</th>\n",
       "      <th>GRUPOS4</th>\n",
       "      <th>GRUPOS12</th>\n",
       "      <th>F_EXP</th>\n",
       "    </tr>\n",
       "  </thead>\n",
       "  <tbody>\n",
       "    <tr>\n",
       "      <th>0</th>\n",
       "      <td>7627444</td>\n",
       "      <td>1</td>\n",
       "      <td>1</td>\n",
       "      <td>44</td>\n",
       "      <td>NaN</td>\n",
       "      <td>2</td>\n",
       "      <td>2</td>\n",
       "      <td>33</td>\n",
       "      <td>ENERO</td>\n",
       "      <td>2</td>\n",
       "      <td>NaN</td>\n",
       "      <td>NaN</td>\n",
       "      <td>NaN</td>\n",
       "      <td>2</td>\n",
       "      <td>240</td>\n",
       "      <td>2</td>\n",
       "      <td>2</td>\n",
       "      <td>2</td>\n",
       "      <td>3</td>\n",
       "      <td>60.050515</td>\n",
       "    </tr>\n",
       "    <tr>\n",
       "      <th>1</th>\n",
       "      <td>7627446</td>\n",
       "      <td>1</td>\n",
       "      <td>1</td>\n",
       "      <td>44</td>\n",
       "      <td>NaN</td>\n",
       "      <td>2</td>\n",
       "      <td>1</td>\n",
       "      <td>31</td>\n",
       "      <td>ENERO</td>\n",
       "      <td>2</td>\n",
       "      <td>NaN</td>\n",
       "      <td>NaN</td>\n",
       "      <td>NaN</td>\n",
       "      <td>2</td>\n",
       "      <td>166</td>\n",
       "      <td>2</td>\n",
       "      <td>2</td>\n",
       "      <td>1</td>\n",
       "      <td>1</td>\n",
       "      <td>86.341075</td>\n",
       "    </tr>\n",
       "    <tr>\n",
       "      <th>2</th>\n",
       "      <td>7627449</td>\n",
       "      <td>1</td>\n",
       "      <td>1</td>\n",
       "      <td>68</td>\n",
       "      <td>NaN</td>\n",
       "      <td>1</td>\n",
       "      <td>2</td>\n",
       "      <td>42</td>\n",
       "      <td>ENERO</td>\n",
       "      <td>2</td>\n",
       "      <td>NaN</td>\n",
       "      <td>NaN</td>\n",
       "      <td>NaN</td>\n",
       "      <td>2</td>\n",
       "      <td>60</td>\n",
       "      <td>2</td>\n",
       "      <td>2</td>\n",
       "      <td>3</td>\n",
       "      <td>5</td>\n",
       "      <td>139.884518</td>\n",
       "    </tr>\n",
       "    <tr>\n",
       "      <th>3</th>\n",
       "      <td>7627453</td>\n",
       "      <td>1</td>\n",
       "      <td>2</td>\n",
       "      <td>68</td>\n",
       "      <td>NaN</td>\n",
       "      <td>1</td>\n",
       "      <td>2</td>\n",
       "      <td>41</td>\n",
       "      <td>ENERO</td>\n",
       "      <td>2</td>\n",
       "      <td>NaN</td>\n",
       "      <td>NaN</td>\n",
       "      <td>NaN</td>\n",
       "      <td>2</td>\n",
       "      <td>60</td>\n",
       "      <td>2</td>\n",
       "      <td>2</td>\n",
       "      <td>4</td>\n",
       "      <td>7</td>\n",
       "      <td>168.635440</td>\n",
       "    </tr>\n",
       "    <tr>\n",
       "      <th>4</th>\n",
       "      <td>7627456</td>\n",
       "      <td>1</td>\n",
       "      <td>3</td>\n",
       "      <td>68</td>\n",
       "      <td>NaN</td>\n",
       "      <td>1</td>\n",
       "      <td>1</td>\n",
       "      <td>18</td>\n",
       "      <td>ENERO</td>\n",
       "      <td>2</td>\n",
       "      <td>NaN</td>\n",
       "      <td>NaN</td>\n",
       "      <td>NaN</td>\n",
       "      <td>2</td>\n",
       "      <td>9</td>\n",
       "      <td>2</td>\n",
       "      <td>2</td>\n",
       "      <td>4</td>\n",
       "      <td>6</td>\n",
       "      <td>64.659273</td>\n",
       "    </tr>\n",
       "    <tr>\n",
       "      <th>...</th>\n",
       "      <td>...</td>\n",
       "      <td>...</td>\n",
       "      <td>...</td>\n",
       "      <td>...</td>\n",
       "      <td>...</td>\n",
       "      <td>...</td>\n",
       "      <td>...</td>\n",
       "      <td>...</td>\n",
       "      <td>...</td>\n",
       "      <td>...</td>\n",
       "      <td>...</td>\n",
       "      <td>...</td>\n",
       "      <td>...</td>\n",
       "      <td>...</td>\n",
       "      <td>...</td>\n",
       "      <td>...</td>\n",
       "      <td>...</td>\n",
       "      <td>...</td>\n",
       "      <td>...</td>\n",
       "      <td>...</td>\n",
       "    </tr>\n",
       "    <tr>\n",
       "      <th>78496</th>\n",
       "      <td>8038070</td>\n",
       "      <td>1</td>\n",
       "      <td>3</td>\n",
       "      <td>13</td>\n",
       "      <td>NaN</td>\n",
       "      <td>1</td>\n",
       "      <td>1</td>\n",
       "      <td>24</td>\n",
       "      <td>DICIEMBRE</td>\n",
       "      <td>2</td>\n",
       "      <td>NaN</td>\n",
       "      <td>NaN</td>\n",
       "      <td>NaN</td>\n",
       "      <td>2</td>\n",
       "      <td>48</td>\n",
       "      <td>1</td>\n",
       "      <td>2</td>\n",
       "      <td>4</td>\n",
       "      <td>7</td>\n",
       "      <td>362.509123</td>\n",
       "    </tr>\n",
       "    <tr>\n",
       "      <th>78497</th>\n",
       "      <td>8038071</td>\n",
       "      <td>1</td>\n",
       "      <td>1</td>\n",
       "      <td>13</td>\n",
       "      <td>NaN</td>\n",
       "      <td>2</td>\n",
       "      <td>1</td>\n",
       "      <td>30</td>\n",
       "      <td>DICIEMBRE</td>\n",
       "      <td>2</td>\n",
       "      <td>NaN</td>\n",
       "      <td>NaN</td>\n",
       "      <td>NaN</td>\n",
       "      <td>2</td>\n",
       "      <td>48</td>\n",
       "      <td>2</td>\n",
       "      <td>2</td>\n",
       "      <td>1</td>\n",
       "      <td>1</td>\n",
       "      <td>158.805116</td>\n",
       "    </tr>\n",
       "    <tr>\n",
       "      <th>78498</th>\n",
       "      <td>8038073</td>\n",
       "      <td>1</td>\n",
       "      <td>1</td>\n",
       "      <td>13</td>\n",
       "      <td>NaN</td>\n",
       "      <td>2</td>\n",
       "      <td>1</td>\n",
       "      <td>66</td>\n",
       "      <td>DICIEMBRE</td>\n",
       "      <td>2</td>\n",
       "      <td>NaN</td>\n",
       "      <td>NaN</td>\n",
       "      <td>NaN</td>\n",
       "      <td>2</td>\n",
       "      <td>500</td>\n",
       "      <td>2</td>\n",
       "      <td>2</td>\n",
       "      <td>1</td>\n",
       "      <td>1</td>\n",
       "      <td>57.451130</td>\n",
       "    </tr>\n",
       "    <tr>\n",
       "      <th>78499</th>\n",
       "      <td>8038074</td>\n",
       "      <td>1</td>\n",
       "      <td>3</td>\n",
       "      <td>13</td>\n",
       "      <td>NaN</td>\n",
       "      <td>2</td>\n",
       "      <td>1</td>\n",
       "      <td>71</td>\n",
       "      <td>DICIEMBRE</td>\n",
       "      <td>2</td>\n",
       "      <td>NaN</td>\n",
       "      <td>NaN</td>\n",
       "      <td>NaN</td>\n",
       "      <td>2</td>\n",
       "      <td>500</td>\n",
       "      <td>2</td>\n",
       "      <td>2</td>\n",
       "      <td>1</td>\n",
       "      <td>1</td>\n",
       "      <td>93.355386</td>\n",
       "    </tr>\n",
       "    <tr>\n",
       "      <th>78500</th>\n",
       "      <td>8038075</td>\n",
       "      <td>1</td>\n",
       "      <td>1</td>\n",
       "      <td>13</td>\n",
       "      <td>NaN</td>\n",
       "      <td>2</td>\n",
       "      <td>1</td>\n",
       "      <td>64</td>\n",
       "      <td>DICIEMBRE</td>\n",
       "      <td>2</td>\n",
       "      <td>NaN</td>\n",
       "      <td>NaN</td>\n",
       "      <td>NaN</td>\n",
       "      <td>2</td>\n",
       "      <td>480</td>\n",
       "      <td>2</td>\n",
       "      <td>2</td>\n",
       "      <td>1</td>\n",
       "      <td>1</td>\n",
       "      <td>98.197081</td>\n",
       "    </tr>\n",
       "  </tbody>\n",
       "</table>\n",
       "<p>78501 rows × 20 columns</p>\n",
       "</div>"
      ],
      "text/plain": [
       "       DIRECTORIO  SECUENCIA_P  SECUENCIA_ENCUESTA  COD_DEPTO  AREA  CLASE_TE  \\\n",
       "0         7627444            1                   1         44   NaN         2   \n",
       "1         7627446            1                   1         44   NaN         2   \n",
       "2         7627449            1                   1         68   NaN         1   \n",
       "3         7627453            1                   2         68   NaN         1   \n",
       "4         7627456            1                   3         68   NaN         1   \n",
       "...           ...          ...                 ...        ...   ...       ...   \n",
       "78496     8038070            1                   3         13   NaN         1   \n",
       "78497     8038071            1                   1         13   NaN         2   \n",
       "78498     8038073            1                   1         13   NaN         2   \n",
       "78499     8038074            1                   3         13   NaN         2   \n",
       "78500     8038075            1                   1         13   NaN         2   \n",
       "\n",
       "       P35  P241    MES_REF  P3031  P3032_1  P3032_2  P3032_3  P3033  P3034  \\\n",
       "0        2    33      ENERO      2      NaN      NaN      NaN      2    240   \n",
       "1        1    31      ENERO      2      NaN      NaN      NaN      2    166   \n",
       "2        2    42      ENERO      2      NaN      NaN      NaN      2     60   \n",
       "3        2    41      ENERO      2      NaN      NaN      NaN      2     60   \n",
       "4        1    18      ENERO      2      NaN      NaN      NaN      2      9   \n",
       "...    ...   ...        ...    ...      ...      ...      ...    ...    ...   \n",
       "78496    1    24  DICIEMBRE      2      NaN      NaN      NaN      2     48   \n",
       "78497    1    30  DICIEMBRE      2      NaN      NaN      NaN      2     48   \n",
       "78498    1    66  DICIEMBRE      2      NaN      NaN      NaN      2    500   \n",
       "78499    1    71  DICIEMBRE      2      NaN      NaN      NaN      2    500   \n",
       "78500    1    64  DICIEMBRE      2      NaN      NaN      NaN      2    480   \n",
       "\n",
       "       P3035  P3000  GRUPOS4  GRUPOS12       F_EXP  \n",
       "0          2      2        2         3   60.050515  \n",
       "1          2      2        1         1   86.341075  \n",
       "2          2      2        3         5  139.884518  \n",
       "3          2      2        4         7  168.635440  \n",
       "4          2      2        4         6   64.659273  \n",
       "...      ...    ...      ...       ...         ...  \n",
       "78496      1      2        4         7  362.509123  \n",
       "78497      2      2        1         1  158.805116  \n",
       "78498      2      2        1         1   57.451130  \n",
       "78499      2      2        1         1   93.355386  \n",
       "78500      2      2        1         1   98.197081  \n",
       "\n",
       "[78501 rows x 20 columns]"
      ]
     },
     "execution_count": 4,
     "metadata": {},
     "output_type": "execute_result"
    }
   ],
   "source": [
    "df_emicron"
   ]
  },
  {
   "cell_type": "code",
   "execution_count": 5,
   "id": "d5be4dad",
   "metadata": {},
   "outputs": [],
   "source": [
    "#preguntas del parcial\n",
    "# 1 cuantos micro negocios hay en el quindio cuyos propietarios son hombres entre los 18 y los 30 años\n",
    "# 2 cuantos micro negocios de la industria manufacturera existen en el depto de risaralda cuyas propietarias son mujeres entre los 20 y los 30 años\n",
    "# 3 entre las ciudades de manizales, pereira y armenia ¿cual de las tres ciudades tiene mas micronegocios del sector comercio, cuyas propietarias son mujeres mayores a 40 años?\n",
    "# 4 en la ciudad de Armenia ¿ cuantos micro negocios hay cuyos propietarios son hombres que no tienen nombre comercial?\n",
    "# se entrega el miercoles a la 1 pm"
   ]
  },
  {
   "cell_type": "code",
   "execution_count": 6,
   "id": "57c28a54",
   "metadata": {},
   "outputs": [
    {
     "name": "stdout",
     "output_type": "stream",
     "text": [
      "cantidad de micronegocios en colombia: 5297251\n"
     ]
    }
   ],
   "source": [
    "#determinar la cantidad de micronegocios en colombia\n",
    "total=df_emicron[\"F_EXP\"].sum()\n",
    "print(\"cantidad de micronegocios en colombia:\", int(total))"
   ]
  },
  {
   "cell_type": "code",
   "execution_count": 7,
   "id": "abd72a61",
   "metadata": {},
   "outputs": [
    {
     "data": {
      "text/plain": [
       "Index(['DIRECTORIO', 'SECUENCIA_P', 'SECUENCIA_ENCUESTA', 'COD_DEPTO', 'AREA',\n",
       "       'CLASE_TE', 'P35', 'P241', 'MES_REF', 'P3031', 'P3032_1', 'P3032_2',\n",
       "       'P3032_3', 'P3033', 'P3034', 'P3035', 'P3000', 'GRUPOS4', 'GRUPOS12',\n",
       "       'F_EXP'],\n",
       "      dtype='object')"
      ]
     },
     "execution_count": 7,
     "metadata": {},
     "output_type": "execute_result"
    }
   ],
   "source": [
    "#Buscar si estan las variables que necesitamos\n",
    "df_emicron.columns"
   ]
  },
  {
   "cell_type": "code",
   "execution_count": 8,
   "id": "b5afd214",
   "metadata": {},
   "outputs": [
    {
     "name": "stdout",
     "output_type": "stream",
     "text": [
      "Cantidad de micronegocios en el departamento del Quindío de hombres entre 18 y 30 años es : 1929\n"
     ]
    }
   ],
   "source": [
    "#1. Micro negocios en Quindío, propietarios hombres entre 18 y 30 años\n",
    "q1 = df_emicron[\n",
    "    (df_emicron['COD_DEPTO'] == 63) &  # Quindío\n",
    "    (df_emicron['P35'] == 1) &         # Hombres\n",
    "    (df_emicron['P241'].between(18, 30))\n",
    "]\n",
    "total_quindio_hombres_18_30 = q1[\"F_EXP\"].sum()\n",
    "\n",
    "print(\"Cantidad de micronegocios en el departamento del Quindío de hombres entre 18 y 30 años es :\", round(total_quindio_hombres_18_30))\n",
    "\n",
    "\n"
   ]
  },
  {
   "cell_type": "code",
   "execution_count": 9,
   "id": "66a483c2",
   "metadata": {},
   "outputs": [],
   "source": [
    "#2. Manufactura en Risaralda, mujeres 20–30 años\n",
    "q2= df_emicron[(df_emicron[\"COD_DEPTO\"] == 66) & (df_emicron[\"P35\"] == 2) & (df_emicron[\"P241\"].between(20, 30)) & (df_emicron[\"GRUPOS4\"] == 2)]"
   ]
  },
  {
   "cell_type": "code",
   "execution_count": 11,
   "id": "227792eb",
   "metadata": {},
   "outputs": [
    {
     "name": "stdout",
     "output_type": "stream",
     "text": [
      "El total de micronegocios de la industria manufacturera en el departamento de Risaralda, cuyas propietarias son mujeres entre los 20 y los 30 años es: 471\n"
     ]
    }
   ],
   "source": [
    "#Calcular micronegocios expandidos\n",
    "total_micronegocios_Manufacturera_RM = q2[\"F_EXP\"].sum()\n",
    "print(f\"El total de micronegocios de la industria manufacturera en el departamento de Risaralda, cuyas propietarias son mujeres entre los 20 y los 30 años es: {q2['F_EXP'].sum():.0f}\")"
   ]
  },
  {
   "cell_type": "code",
   "execution_count": null,
   "id": "abd17653",
   "metadata": {},
   "outputs": [],
   "source": [
    "#3. Entre Manizales, Pereira y Armenia → sector comercio, mujeres >40\n",
    "\n"
   ]
  },
  {
   "cell_type": "code",
   "execution_count": null,
   "id": "7ef16f2f",
   "metadata": {},
   "outputs": [
    {
     "name": "stdout",
     "output_type": "stream",
     "text": [
      "El total de micronegocios del sector comercio en la ciudad de Armenia, cuyas propietarias son mujeres mayores a 40 años es: 2558\n"
     ]
    }
   ],
   "source": [
    "#ARMENIA \n",
    "q3 = df_emicron[(df_emicron[\"AREA\"] == 63) & (df_emicron[\"P35\"] == 2) & (df_emicron[\"P241\"] > 40) & (df_emicron[\"GRUPOS4\"] == 3)]\n",
    "total_micronegocios_comercio_A40 = q3[\"F_EXP\"].sum()\n",
    "print(f\"El total de micronegocios del sector comercio en la ciudad de Armenia, cuyas propietarias son mujeres mayores a 40 años es: {q3['F_EXP'].sum():.0f}\")"
   ]
  },
  {
   "cell_type": "code",
   "execution_count": null,
   "id": "f2d572f4",
   "metadata": {},
   "outputs": [
    {
     "name": "stdout",
     "output_type": "stream",
     "text": [
      "El total de micronegocios del sector comercio en la ciudad de Pereira, cuyas propietarias son mujeres mayores a 40 años es: 3827\n"
     ]
    }
   ],
   "source": [
    "#PEREIRA\n",
    "q3 = df_emicron[(df_emicron[\"AREA\"] == 66) & (df_emicron[\"P35\"] == 2) & (df_emicron[\"P241\"] > 40) & (df_emicron[\"GRUPOS4\"] == 3)]\n",
    "total_micronegocios_comercio_P40 = q3[\"F_EXP\"].sum()\n",
    "print(f\"El total de micronegocios del sector comercio en la ciudad de Pereira, cuyas propietarias son mujeres mayores a 40 años es: {q3['F_EXP'].sum():.0f}\")"
   ]
  },
  {
   "cell_type": "code",
   "execution_count": null,
   "id": "e10df273",
   "metadata": {},
   "outputs": [
    {
     "name": "stdout",
     "output_type": "stream",
     "text": [
      "El total de micronegocios del sector comercio en la ciudad de Manizales, cuyas propietarias son mujeres mayores a 40 años es: 2637\n"
     ]
    }
   ],
   "source": [
    "#MANIZALES\n",
    "q3 = df_emicron[(df_emicron[\"AREA\"] == 17) & (df_emicron[\"P35\"] == 2) & (df_emicron[\"P241\"] > 40) & (df_emicron[\"GRUPOS4\"] == 3)]\n",
    "total_micronegocios_comercio_M40 = q3[\"F_EXP\"].sum()\n",
    "print(f\"El total de micronegocios del sector comercio en la ciudad de Manizales, cuyas propietarias son mujeres mayores a 40 años es: {q3['F_EXP'].sum():.0f}\")"
   ]
  },
  {
   "cell_type": "code",
   "execution_count": null,
   "id": "82472afa",
   "metadata": {},
   "outputs": [],
   "source": [
    "#la ciudad que cuenta con mas micronegocios cuyas propietarias son mujeres de mas de 40 años de edad es la ciudad de Pereira\n"
   ]
  },
  {
   "cell_type": "code",
   "execution_count": null,
   "id": "402727c4",
   "metadata": {},
   "outputs": [
    {
     "name": "stdout",
     "output_type": "stream",
     "text": [
      "El total de micronegocios en la ciudad de Armenia, cuyos propietarios son hombres que no tienen nombre comercial es: 11603\n"
     ]
    }
   ],
   "source": [
    "#4. En Armenia (Quindío), hombres sin nombre comercial\n",
    "q4 = df_emicron[(df_emicron[\"AREA\"] == 63) & (df_emicron[\"P35\"] == 1) & (df_emicron[\"P3035\"] == 2)]\n",
    "total_micronegocios_AXM_snc = q4[\"F_EXP\"].sum()\n",
    "print(f\"El total de micronegocios en la ciudad de Armenia, cuyos propietarios son hombres que no tienen nombre comercial es: {q4['F_EXP'].sum():.0f}\")"
   ]
  }
 ],
 "metadata": {
  "kernelspec": {
   "display_name": "Python 3",
   "language": "python",
   "name": "python3"
  },
  "language_info": {
   "codemirror_mode": {
    "name": "ipython",
    "version": 3
   },
   "file_extension": ".py",
   "mimetype": "text/x-python",
   "name": "python",
   "nbconvert_exporter": "python",
   "pygments_lexer": "ipython3",
   "version": "3.12.1"
  }
 },
 "nbformat": 4,
 "nbformat_minor": 5
}
