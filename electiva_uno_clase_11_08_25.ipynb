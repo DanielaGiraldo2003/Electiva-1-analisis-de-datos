{
  "nbformat": 4,
  "nbformat_minor": 0,
  "metadata": {
    "colab": {
      "provenance": [],
      "authorship_tag": "ABX9TyOF5yZ7rPrhGt+mSVZCc+OY",
      "include_colab_link": true
    },
    "kernelspec": {
      "name": "python3",
      "display_name": "Python 3"
    },
    "language_info": {
      "name": "python"
    }
  },
  "cells": [
    {
      "cell_type": "markdown",
      "metadata": {
        "id": "view-in-github",
        "colab_type": "text"
      },
      "source": [
        "<a href=\"https://colab.research.google.com/github/DanielaGiraldo2003/Electiva-1-analisis-de-datos/blob/main/electiva_uno_clase_11_08_25.ipynb\" target=\"_parent\"><img src=\"https://colab.research.google.com/assets/colab-badge.svg\" alt=\"Open In Colab\"/></a>"
      ]
    },
    {
      "cell_type": "markdown",
      "source": [
        "**Creando una lista**"
      ],
      "metadata": {
        "id": "AqkIU8Ca9Gyg"
      }
    },
    {
      "cell_type": "code",
      "execution_count": null,
      "metadata": {
        "id": "S97jwWZ183OH"
      },
      "outputs": [],
      "source": [
        "lista=[1,3,5,9,296]"
      ]
    },
    {
      "cell_type": "code",
      "source": [
        "#sincronizando cambios"
      ],
      "metadata": {
        "id": "WOyse5Kd9S-C"
      },
      "execution_count": 2,
      "outputs": []
    },
    {
      "cell_type": "code",
      "source": [
        "#ejemplo diccionario\n",
        "\n",
        "mi_diccionario = {\"1004918112\": \"Daniela Giraldo\", \"1005471982\": \"Kevin hincapie\", \"1006782983\":\"juan gañan\"}\n",
        "\n",
        "otro_diccionario ={1:[1,2,3,4,5], 2:[5,6,7,8,9], 3:{1:2,2:3}}"
      ],
      "metadata": {
        "id": "fn8LAjcQCQna"
      },
      "execution_count": 10,
      "outputs": []
    },
    {
      "cell_type": "code",
      "source": [
        "mi_diccionario['1004918112']"
      ],
      "metadata": {
        "colab": {
          "base_uri": "https://localhost:8080/",
          "height": 36
        },
        "id": "ufW_o9PeEItj",
        "outputId": "05ffbd59-fefc-4dbc-f327-d834b179639f"
      },
      "execution_count": 11,
      "outputs": [
        {
          "output_type": "execute_result",
          "data": {
            "text/plain": [
              "'Daniela Giraldo'"
            ],
            "application/vnd.google.colaboratory.intrinsic+json": {
              "type": "string"
            }
          },
          "metadata": {},
          "execution_count": 11
        }
      ]
    },
    {
      "cell_type": "code",
      "source": [
        "otro_diccionario[1]"
      ],
      "metadata": {
        "colab": {
          "base_uri": "https://localhost:8080/"
        },
        "id": "jGbpLCjWEtln",
        "outputId": "c1555054-4f04-4689-b712-64f3b417088b"
      },
      "execution_count": 12,
      "outputs": [
        {
          "output_type": "execute_result",
          "data": {
            "text/plain": [
              "[1, 2, 3, 4, 5]"
            ]
          },
          "metadata": {},
          "execution_count": 12
        }
      ]
    },
    {
      "cell_type": "code",
      "source": [
        "#sacando el numero tres del diccionario\n",
        "otro_diccionario[3][2]"
      ],
      "metadata": {
        "colab": {
          "base_uri": "https://localhost:8080/"
        },
        "id": "_beGDO97E9ok",
        "outputId": "a91757a0-d883-45a6-8193-0da1626a1f11"
      },
      "execution_count": 13,
      "outputs": [
        {
          "output_type": "execute_result",
          "data": {
            "text/plain": [
              "3"
            ]
          },
          "metadata": {},
          "execution_count": 13
        }
      ]
    },
    {
      "cell_type": "code",
      "source": [
        "diccionario_complejo = { 1 : [1,2,3,4,5,[5,6,7,8,9,[6,7,8]]],\n",
        "2: [5,6,7,8,9],\n",
        "3: {1:2,2:3,6:[9,10,'extraer este valor']}\n",
        "}"
      ],
      "metadata": {
        "id": "3aUTCyt6GC_8"
      },
      "execution_count": 14,
      "outputs": []
    },
    {
      "cell_type": "code",
      "source": [
        "diccionario_complejo[3][6][2]"
      ],
      "metadata": {
        "colab": {
          "base_uri": "https://localhost:8080/",
          "height": 36
        },
        "id": "zTNifhIeHqTR",
        "outputId": "140eebbc-d5de-4133-913f-84b46c14701e"
      },
      "execution_count": 15,
      "outputs": [
        {
          "output_type": "execute_result",
          "data": {
            "text/plain": [
              "'extraer este valor'"
            ],
            "application/vnd.google.colaboratory.intrinsic+json": {
              "type": "string"
            }
          },
          "metadata": {},
          "execution_count": 15
        }
      ]
    },
    {
      "cell_type": "code",
      "source": [
        "diccionario_complejo[1][5][5][2]"
      ],
      "metadata": {
        "colab": {
          "base_uri": "https://localhost:8080/"
        },
        "id": "7SN9pSXmH6eq",
        "outputId": "8f35f36d-8e3e-4246-95e3-f6cd78cdf367"
      },
      "execution_count": 16,
      "outputs": [
        {
          "output_type": "execute_result",
          "data": {
            "text/plain": [
              "8"
            ]
          },
          "metadata": {},
          "execution_count": 16
        }
      ]
    },
    {
      "cell_type": "code",
      "source": [
        "estudiantes = { \"santiago\":{\"edad\":18, \"semestre\":6},\"nicolas\":{\"edad\":16,\"semestre\":9}}"
      ],
      "metadata": {
        "id": "J_blUwL7IHKd"
      },
      "execution_count": 17,
      "outputs": []
    },
    {
      "cell_type": "code",
      "source": [
        "if estudiantes [\"santiago\"][\"edad\"]>=18:\n",
        "  print(\"santiago es mayor de edad\")\n",
        "else:\n",
        "  print(\"santiago es menor de edad\")"
      ],
      "metadata": {
        "colab": {
          "base_uri": "https://localhost:8080/"
        },
        "id": "aMOKPud_KpBx",
        "outputId": "01f0bc60-011a-415f-92c5-ea09fd57b962"
      },
      "execution_count": 18,
      "outputs": [
        {
          "output_type": "stream",
          "name": "stdout",
          "text": [
            "santiago es mayor de edad\n"
          ]
        }
      ]
    },
    {
      "cell_type": "code",
      "source": [
        "#utilizando condicionales crear un sistema de calificacion\n",
        "#1. crear un diccionario donde se guarden los nombres y las notas de 5 estudiantes\n",
        "#2. crear un sistema que permita definir si la persona gano o perdio la materia, y si tienen derecho a habilitar\n",
        "#3. las notas van de 0 a 5, de cero a 2.9 se pierde la materia, de 3 para arriba y hasta 5 se gana, adiccional para habilitar debe sacar mas de 2 y menos de 2.95\n",
        "\n",
        "estudiantes_nota = {\"santiago\":2.3, \"juan\":5, \"jhan\":0,\"daniela\":3.5,\"kevin\":4.5}\n",
        "\n",
        "if estudiantes_nota[\"santiago\"]>=3:\n",
        "  print(\"El estudiante gano la materia\")\n",
        "elif estudiantes_nota[\"santiago\"]>=2.0 and estudiantes_nota[\"santiago\"]<=2.95:\n",
        "  print(\"El estudiante perdio la materia\")\n",
        "  print(\"El estudiante puede habilitar\")\n",
        "else:\n",
        "  print(\"El estudiante perdio la materia\")\n",
        "  print(\"El estudiante no puede habilitar\")"
      ],
      "metadata": {
        "colab": {
          "base_uri": "https://localhost:8080/"
        },
        "id": "OdlXrYuDK6rY",
        "outputId": "c33f69d5-bc2d-4d40-90d6-0defae3fd6a9"
      },
      "execution_count": 23,
      "outputs": [
        {
          "output_type": "stream",
          "name": "stdout",
          "text": [
            "El estudiante perdio la materia\n",
            "El estudiante puede habilitar\n"
          ]
        }
      ]
    },
    {
      "cell_type": "code",
      "source": [],
      "metadata": {
        "id": "fOEtfbWRMJfp"
      },
      "execution_count": null,
      "outputs": []
    }
  ]
}